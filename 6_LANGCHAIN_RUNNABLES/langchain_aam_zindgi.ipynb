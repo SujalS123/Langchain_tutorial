{
 "cells": [
  {
   "cell_type": "code",
   "execution_count": 39,
   "id": "b105a939",
   "metadata": {},
   "outputs": [],
   "source": [
    "import random\n",
    "class NakliLLM:\n",
    "\n",
    "    def __init__(self):\n",
    "        print('LLM created')\n",
    "\n",
    "    def predict(self,prompt):\n",
    "        response_list = [\n",
    "            'delhi is the captial of india',\n",
    "            'ipl is a cricket leauge',\n",
    "            'AI stands for artificial inteligence'\n",
    "        ]\n",
    "        return {'response': random.choice(response_list)}"
   ]
  },
  {
   "cell_type": "code",
   "execution_count": 40,
   "id": "8575c18f",
   "metadata": {},
   "outputs": [
    {
     "name": "stdout",
     "output_type": "stream",
     "text": [
      "LLM created\n"
     ]
    }
   ],
   "source": [
    "llm = NakliLLM()"
   ]
  },
  {
   "cell_type": "code",
   "execution_count": 41,
   "id": "d0a1b584",
   "metadata": {},
   "outputs": [
    {
     "data": {
      "text/plain": [
       "{'response': 'AI stands for artificial inteligence'}"
      ]
     },
     "execution_count": 41,
     "metadata": {},
     "output_type": "execute_result"
    }
   ],
   "source": [
    "llm.predict('what is the capital of india?')"
   ]
  },
  {
   "cell_type": "code",
   "execution_count": 42,
   "id": "d419ab02",
   "metadata": {},
   "outputs": [],
   "source": [
    "class NakliPromptTemplate:\n",
    "\n",
    "    def __init__(self, template , input_variables):\n",
    "        self.template = template\n",
    "        self.input_variables = input_variables\n",
    "\n",
    "    def format(self , input_dict):\n",
    "        return self.template.format(**input_dict)\n",
    "    "
   ]
  },
  {
   "cell_type": "code",
   "execution_count": 43,
   "id": "2c1dc823",
   "metadata": {},
   "outputs": [],
   "source": [
    "template = NakliPromptTemplate(\n",
    "    template = 'Write a {length} poem about {topic}',\n",
    "    input_variables = ['length','topic']\n",
    "\n",
    ")"
   ]
  },
  {
   "cell_type": "code",
   "execution_count": 44,
   "id": "24ce6a7c",
   "metadata": {},
   "outputs": [],
   "source": [
    "prompt = template.format({'length':'short','topic':'india'})"
   ]
  },
  {
   "cell_type": "code",
   "execution_count": 45,
   "id": "f5ff8b99",
   "metadata": {},
   "outputs": [
    {
     "data": {
      "text/plain": [
       "{'response': 'ipl is a cricket leauge'}"
      ]
     },
     "execution_count": 45,
     "metadata": {},
     "output_type": "execute_result"
    }
   ],
   "source": [
    "llm.predict(prompt)"
   ]
  },
  {
   "cell_type": "code",
   "execution_count": 46,
   "id": "288bbaa6",
   "metadata": {},
   "outputs": [],
   "source": [
    "class NakliLLMChain:\n",
    "\n",
    "    def __init__(self , llm , prompt):\n",
    "        self.llm = llm\n",
    "        self.prompt = prompt\n",
    "\n",
    "    def run(self , input_dict):\n",
    "\n",
    "        final_prompt = self.prompt.format(input_dict)\n",
    "        result = self.llm.predict(final_prompt)\n",
    "\n",
    "        return result['response']\n",
    "\n",
    "\n"
   ]
  },
  {
   "cell_type": "code",
   "execution_count": 47,
   "id": "772af971",
   "metadata": {},
   "outputs": [],
   "source": [
    "chain = NakliLLMChain(llm,template)"
   ]
  },
  {
   "cell_type": "code",
   "execution_count": 51,
   "id": "13135212",
   "metadata": {},
   "outputs": [
    {
     "data": {
      "text/plain": [
       "'delhi is the captial of india'"
      ]
     },
     "execution_count": 51,
     "metadata": {},
     "output_type": "execute_result"
    }
   ],
   "source": [
    "chain.run({'length' : 'short' , 'topic' : 'india'})"
   ]
  }
 ],
 "metadata": {
  "kernelspec": {
   "display_name": "Python 3",
   "language": "python",
   "name": "python3"
  },
  "language_info": {
   "codemirror_mode": {
    "name": "ipython",
    "version": 3
   },
   "file_extension": ".py",
   "mimetype": "text/x-python",
   "name": "python",
   "nbconvert_exporter": "python",
   "pygments_lexer": "ipython3",
   "version": "3.12.9"
  }
 },
 "nbformat": 4,
 "nbformat_minor": 5
}
