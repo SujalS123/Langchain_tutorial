{
 "cells": [
  {
   "cell_type": "code",
   "execution_count": 3,
   "id": "c1b3832b",
   "metadata": {},
   "outputs": [],
   "source": [
    "from abc import ABC , abstractmethod\n"
   ]
  },
  {
   "cell_type": "code",
   "execution_count": 5,
   "id": "f6063e25",
   "metadata": {},
   "outputs": [],
   "source": [
    "class Runnable(ABC):\n",
    "\n",
    "    @abstractmethod\n",
    "    def invoke(input_data):\n",
    "        pass\n"
   ]
  },
  {
   "cell_type": "code",
   "execution_count": null,
   "id": "5e022825",
   "metadata": {},
   "outputs": [],
   "source": [
    "import random\n",
    "class NakliLLM(Runnable):\n",
    "\n",
    "    def __init__(self):\n",
    "        print('LLM created')\n",
    "\n",
    "    def invoke(self , prompt ):\n",
    "        response_list = [\n",
    "            'delhi is the captial of india',\n",
    "            'ipl is a cricket leauge',\n",
    "            'AI stands for artificial inteligence'\n",
    "        ]\n",
    "        return {'response': random.choice(response_list)}\n",
    "        \n",
    "\n",
    "    def predict(self,prompt):\n",
    "        response_list = [\n",
    "            'delhi is the captial of india',\n",
    "            'ipl is a cricket leauge',\n",
    "            'AI stands for artificial inteligence'\n",
    "        ]\n",
    "        return {'response': random.choice(response_list)}"
   ]
  },
  {
   "cell_type": "code",
   "execution_count": null,
   "id": "aa21bc1e",
   "metadata": {},
   "outputs": [],
   "source": [
    "class NakliPromptTemplate(Runnable):\n",
    "\n",
    "    def __init__(self, template , input_variables):\n",
    "        self.template = template\n",
    "        self.input_variables = input_variables\n",
    "\n",
    "\n",
    "    def invoke(self , input_dict):\n",
    "        return self.template.format(**input_dict)\n",
    "\n",
    "\n",
    "    def format(self , input_dict):\n",
    "        return self.template.format(**input_dict)\n",
    "    "
   ]
  },
  {
   "cell_type": "code",
   "execution_count": null,
   "id": "7991c7a7",
   "metadata": {},
   "outputs": [],
   "source": [
    "class RunnableConnector(Runnable):\n",
    "\n",
    "    def __init__(self , runnable_list):\n",
    "        self.runnable_list = runnable_list\n",
    "\n",
    "    def invoke(self , input_data):\n",
    "\n",
    "        for runnable in self.runnable_list:\n",
    "            runnable.invoke(input_data)\n",
    "\n",
    "\n",
    "        "
   ]
  }
 ],
 "metadata": {
  "kernelspec": {
   "display_name": "Python 3",
   "language": "python",
   "name": "python3"
  },
  "language_info": {
   "codemirror_mode": {
    "name": "ipython",
    "version": 3
   },
   "file_extension": ".py",
   "mimetype": "text/x-python",
   "name": "python",
   "nbconvert_exporter": "python",
   "pygments_lexer": "ipython3",
   "version": "3.12.9"
  }
 },
 "nbformat": 4,
 "nbformat_minor": 5
}
